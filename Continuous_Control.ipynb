{
 "cells": [
  {
   "cell_type": "markdown",
   "metadata": {},
   "source": [
    "# Continuous Control\n",
    "\n",
    "---\n",
    "\n",
    "In this notebook, you will train a DDPG Agent to Control a robot Arm\n",
    "\n",
    "### 1. Start the Environment\n",
    "\n",
    "Start by making sure the necessary packages are installed"
   ]
  },
  {
   "cell_type": "code",
   "execution_count": null,
   "metadata": {},
   "outputs": [],
   "source": [
    "!pip install unityagents\n",
    "!pip install mlagents\n",
    "!pip install gym\n",
    "!pip install Pillow\n",
    "!pip install h5py"
   ]
  },
  {
   "cell_type": "code",
   "execution_count": null,
   "metadata": {},
   "outputs": [],
   "source": [
    "%conda install -c pytorch pytorch torchvision"
   ]
  },
  {
   "cell_type": "code",
   "execution_count": 1,
   "metadata": {},
   "outputs": [],
   "source": [
    "from unityagents import UnityEnvironment\n",
    "import numpy as np\n",
    "from ddpg_agent import Agent\n",
    "from collections import deque\n",
    "import torch\n",
    "import matplotlib.pyplot as plt"
   ]
  },
  {
   "cell_type": "markdown",
   "metadata": {},
   "source": [
    "Next, we will start the environment!  **_Before running the code cell below_**, change the `file_name` parameter to match the location of the Unity environment that you downloaded.\n",
    "\n",
    "- **Mac**: `\"path/to/Reacher.app\"`\n",
    "- **Windows** (x86): `\"path/to/Reacher_Windows_x86/Reacher.exe\"`\n",
    "- **Windows** (x86_64): `\"path/to/Reacher_Windows_x86_64/Reacher.exe\"`\n",
    "- **Linux** (x86): `\"path/to/Reacher_Linux/Reacher.x86\"`\n",
    "- **Linux** (x86_64): `\"path/to/Reacher_Linux/Reacher.x86_64\"`\n",
    "- **Linux** (x86, headless): `\"path/to/Reacher_Linux_NoVis/Reacher.x86\"`\n",
    "- **Linux** (x86_64, headless): `\"path/to/Reacher_Linux_NoVis/Reacher.x86_64\"`\n",
    "\n",
    "For instance, if you are using a Mac, then you downloaded `Reacher.app`.  If this file is in the same folder as the notebook, then the line below should appear as follows:\n",
    "```\n",
    "env = UnityEnvironment(file_name=\"Reacher.app\")\n",
    "```"
   ]
  },
  {
   "cell_type": "code",
   "execution_count": 2,
   "metadata": {},
   "outputs": [
    {
     "name": "stderr",
     "output_type": "stream",
     "text": [
      "INFO:unityagents:\n",
      "'Academy' started successfully!\n",
      "Unity Academy name: Academy\n",
      "        Number of Brains: 1\n",
      "        Number of External Brains : 1\n",
      "        Lesson number : 0\n",
      "        Reset Parameters :\n",
      "\t\tgoal_speed -> 1.0\n",
      "\t\tgoal_size -> 5.0\n",
      "Unity brain name: ReacherBrain\n",
      "        Number of Visual Observations (per agent): 0\n",
      "        Vector Observation space type: continuous\n",
      "        Vector Observation space size (per agent): 33\n",
      "        Number of stacked Vector Observation: 1\n",
      "        Vector Action space type: continuous\n",
      "        Vector Action space size (per agent): 4\n",
      "        Vector Action descriptions: , , , \n"
     ]
    }
   ],
   "source": [
    "env = UnityEnvironment(file_name=\"Reacher_Windows_x86_64/Reacher.exe\")"
   ]
  },
  {
   "cell_type": "markdown",
   "metadata": {},
   "source": [
    "Environments contain **_brains_** which are responsible for deciding the actions of their associated agents. Here we check for the first brain available, and set it as the default brain we will be controlling from Python."
   ]
  },
  {
   "cell_type": "code",
   "execution_count": 3,
   "metadata": {},
   "outputs": [],
   "source": [
    "# get the default brain\n",
    "brain_name = env.brain_names[0]\n",
    "brain = env.brains[brain_name]"
   ]
  },
  {
   "cell_type": "markdown",
   "metadata": {},
   "source": [
    "### 2. Examine the State and Action Spaces\n",
    "\n",
    "In this environment, a double-jointed arm can move to target locations. A reward of `+0.1` is provided for each step that the agent's hand is in the goal location. Thus, the goal of your agent is to maintain its position at the target location for as many time steps as possible.\n",
    "\n",
    "The observation space consists of `33` variables corresponding to position, rotation, velocity, and angular velocities of the arm.  Each action is a vector with four numbers, corresponding to torque applicable to two joints.  Every entry in the action vector must be a number between `-1` and `1`.\n",
    "\n",
    "Run the code cell below to print some information about the environment."
   ]
  },
  {
   "cell_type": "code",
   "execution_count": 4,
   "metadata": {},
   "outputs": [
    {
     "name": "stdout",
     "output_type": "stream",
     "text": [
      "Number of agents: 20\n",
      "Size of each action: 4\n",
      "There are 20 agents. Each observes a state with length: 33\n",
      "The state for the first agent looks like: [ 0.00000000e+00 -4.00000000e+00  0.00000000e+00  1.00000000e+00\n",
      " -0.00000000e+00 -0.00000000e+00 -4.37113883e-08  0.00000000e+00\n",
      "  0.00000000e+00  0.00000000e+00  0.00000000e+00  0.00000000e+00\n",
      "  0.00000000e+00  0.00000000e+00 -1.00000000e+01  0.00000000e+00\n",
      "  1.00000000e+00 -0.00000000e+00 -0.00000000e+00 -4.37113883e-08\n",
      "  0.00000000e+00  0.00000000e+00  0.00000000e+00  0.00000000e+00\n",
      "  0.00000000e+00  0.00000000e+00  5.75471878e+00 -1.00000000e+00\n",
      "  5.55726624e+00  0.00000000e+00  1.00000000e+00  0.00000000e+00\n",
      " -1.68164849e-01]\n"
     ]
    }
   ],
   "source": [
    "# reset the environment\n",
    "env_info = env.reset(train_mode=True)[brain_name]\n",
    "\n",
    "# number of agents\n",
    "num_agents = len(env_info.agents)\n",
    "print('Number of agents:', num_agents)\n",
    "\n",
    "# size of each action\n",
    "action_size = brain.vector_action_space_size\n",
    "print('Size of each action:', action_size)\n",
    "\n",
    "# examine the state space \n",
    "states = env_info.vector_observations\n",
    "state_size = states.shape[1]\n",
    "print('There are {} agents. Each observes a state with length: {}'.format(states.shape[0], state_size))\n",
    "print('The state for the first agent looks like:', states[0])"
   ]
  },
  {
   "cell_type": "markdown",
   "metadata": {},
   "source": [
    "### 3. Take Random Actions in the Environment\n",
    "\n",
    "In the next code cell, you will learn how to use the Python API to control the agent and receive feedback from the environment.\n",
    "\n",
    "Once this cell is executed, you will watch the agent's performance, if it selects an action at random with each time step.  A window should pop up that allows you to observe the agent, as it moves through the environment.  \n",
    "\n",
    "Of course, as part of the project, you'll have to change the code so that the agent is able to use its experience to gradually choose better actions when interacting with the environment!"
   ]
  },
  {
   "cell_type": "code",
   "execution_count": 5,
   "metadata": {},
   "outputs": [
    {
     "name": "stdout",
     "output_type": "stream",
     "text": [
      "Total score (averaged over agents) this episode: 0.08149999817833305\n"
     ]
    }
   ],
   "source": [
    "env_info = env.reset(train_mode=False)[brain_name]     # reset the environment    \n",
    "states = env_info.vector_observations                  # get the current state (for each agent)\n",
    "scores = np.zeros(num_agents)                          # initialize the score (for each agent)\n",
    "timesteps=0\n",
    "while True:\n",
    "    actions = np.random.randn(num_agents, action_size) # select an action (for each agent)\n",
    "    actions = np.clip(actions, -1, 1)                  # all actions between -1 and 1\n",
    "    env_info = env.step(actions)[brain_name]           # send all actions to tne environment\n",
    "    next_states = env_info.vector_observations         # get next state (for each agent)\n",
    "    rewards = env_info.rewards                         # get reward (for each agent)\n",
    "    dones = env_info.local_done                        # see if episode finished\n",
    "    scores += env_info.rewards                         # update the score (for each agent)\n",
    "    states = next_states                               # roll over states to next time step\n",
    "    timesteps += 1\n",
    "    if np.any(dones):                                  # exit loop if episode finished\n",
    "        break\n",
    "print('Total score (averaged over agents) this episode: {}'.format(np.mean(scores)))"
   ]
  },
  {
   "cell_type": "markdown",
   "metadata": {},
   "source": [
    "When finished, you can close the environment."
   ]
  },
  {
   "cell_type": "code",
   "execution_count": 6,
   "metadata": {},
   "outputs": [],
   "source": [
    "# env.close()"
   ]
  },
  {
   "cell_type": "markdown",
   "metadata": {},
   "source": [
    "### 4. Time to Train the Agent\n",
    "\n",
    "Now we wil train an agent to solve the environment!  When training the environment, set `train_mode=True`, so that the line for resetting the environment looks like the following:\n",
    "```python\n",
    "env_info = env.reset(train_mode=True)[brain_name]\n",
    "```"
   ]
  },
  {
   "cell_type": "code",
   "execution_count": 7,
   "metadata": {},
   "outputs": [],
   "source": [
    "def plot_scores(scores, num_agents, show_scatter=True):\n",
    "    mean_scores=scores.reshape(-1,num_agents).mean(axis=1)\n",
    "    fig = plt.figure()\n",
    "    ax = fig.add_subplot(111)\n",
    "    plt.plot(np.arange(len(mean_scores)), mean_scores)\n",
    "    plt.ylabel('Score')\n",
    "    plt.xlabel('Episode #')\n",
    "    if show_scatter:\n",
    "        plt.scatter(x=np.repeat(np.arange(len(mean_scores)),num_agents), y=scores)\n",
    "    plt.show()"
   ]
  },
  {
   "cell_type": "code",
   "execution_count": 8,
   "metadata": {},
   "outputs": [],
   "source": [
    "\n",
    "def ddpg(episodes=200, max_t=1000):\n",
    "    \n",
    "\n",
    "\n",
    "\n",
    "    score_hist = np.array([])\n",
    "    score_deque = deque(maxlen=100)\n",
    "    \n",
    "    \n",
    "    for episode in range(episodes): \n",
    "        # Reset the enviroment\n",
    "        env_info = env.reset(train_mode=True)[brain_name] \n",
    "        states = env_info.vector_observations\n",
    "        scores = np.zeros(num_agents)\n",
    "    \n",
    "    \n",
    "    \n",
    "        for i in range(max_t):\n",
    "          \n",
    "            # Predict the best action for the current state. \n",
    "            actions = agent.act(states, add_noise = True)\n",
    "            \n",
    "            # Action is performed and new state, reward, info are received.\n",
    "            env_info = env.step(actions)[brain_name]           # send all actions to tne environment\n",
    "            next_states = env_info.vector_observations         # get next state (for each agent)\n",
    "            rewards = env_info.rewards                         # get reward (for each agent)\n",
    "            dones = env_info.local_done                        # see if episode finished\n",
    "            scores += rewards                                  # update the score (for each agent)\n",
    "                                   # roll over states to next time step\n",
    "            \n",
    "            # current state, action, reward, new state are stored in the experience replay\n",
    "            for state, action, reward, next_state, done in zip(states, actions, rewards, next_states, dones):\n",
    "                agent.step(state, action, reward, next_state, done)\n",
    "            \n",
    "            # roll over new state\n",
    "            states = next_states                               # roll over states to next time step\n",
    "    \n",
    "            if np.any(dones):\n",
    "                break\n",
    "        score_hist = np.append(score_hist, scores)\n",
    "        score_deque.append(scores)\n",
    "        \n",
    "\n",
    "\n",
    "        \n",
    "        print('\\rEpisode [{}/{}]\\tEpisode Average Score: {:,.2f}\\tRunning Average Score: {:,.2f}'.format(episode + 1, episodes,np.mean(scores), np.mean(score_deque))) \n",
    "            \n",
    " \n",
    "        if (np.mean(score_deque)>=30.0) and len(score_deque)>=100:\n",
    "        \n",
    "            print('\\nEnvironment solved in {:d} episodes!\\tAverage Score: {:.2f}'.format(episode+1, np.mean(score_deque)))\n",
    "            break\n",
    "    torch.save(agent.actor_local.state_dict(), 'actor_checkpoint.pth')\n",
    "    torch.save(agent.critic_local.state_dict(), 'critic_checkpoint.pth') \n",
    "    \n",
    "\n",
    "    return score_hist"
   ]
  },
  {
   "cell_type": "code",
   "execution_count": 9,
   "metadata": {},
   "outputs": [],
   "source": [
    "def plot_scores(scores, num_agents, show_scatter=True):\n",
    "    mean_scores=scores.reshape(-1,num_agents).mean(axis=1)\n",
    "    fig = plt.figure()\n",
    "    ax = fig.add_subplot(111)\n",
    "    if show_scatter:\n",
    "        plt.scatter(x=np.repeat(np.arange(len(mean_scores)),num_agents), y=scores, c='blue', alpha=0.5, marker='.')\n",
    "    plt.plot(np.arange(len(mean_scores)), mean_scores, c='red')\n",
    "    plt.ylabel('Score')\n",
    "    plt.xlabel('Episode #')\n",
    "    \n",
    "    plt.show()\n"
   ]
  },
  {
   "cell_type": "code",
   "execution_count": 10,
   "metadata": {},
   "outputs": [
    {
     "name": "stdout",
     "output_type": "stream",
     "text": [
      "Episode [1/200]\tEpisode Average Score: 0.85\tRunning Average Score: 0.85\n",
      "Episode [2/200]\tEpisode Average Score: 1.82\tRunning Average Score: 1.34\n",
      "Episode [3/200]\tEpisode Average Score: 2.50\tRunning Average Score: 1.72\n",
      "Episode [4/200]\tEpisode Average Score: 5.08\tRunning Average Score: 2.56\n",
      "Episode [5/200]\tEpisode Average Score: 7.20\tRunning Average Score: 3.49\n",
      "Episode [6/200]\tEpisode Average Score: 12.95\tRunning Average Score: 5.07\n",
      "Episode [7/200]\tEpisode Average Score: 16.33\tRunning Average Score: 6.68\n",
      "Episode [8/200]\tEpisode Average Score: 12.48\tRunning Average Score: 7.40\n",
      "Episode [9/200]\tEpisode Average Score: 20.64\tRunning Average Score: 8.87\n",
      "Episode [10/200]\tEpisode Average Score: 16.43\tRunning Average Score: 9.63\n",
      "Episode [11/200]\tEpisode Average Score: 17.72\tRunning Average Score: 10.36\n",
      "Episode [12/200]\tEpisode Average Score: 23.88\tRunning Average Score: 11.49\n",
      "Episode [13/200]\tEpisode Average Score: 26.05\tRunning Average Score: 12.61\n",
      "Episode [14/200]\tEpisode Average Score: 19.52\tRunning Average Score: 13.10\n",
      "Episode [15/200]\tEpisode Average Score: 20.51\tRunning Average Score: 13.60\n",
      "Episode [16/200]\tEpisode Average Score: 24.65\tRunning Average Score: 14.29\n",
      "Episode [17/200]\tEpisode Average Score: 24.29\tRunning Average Score: 14.88\n",
      "Episode [18/200]\tEpisode Average Score: 30.46\tRunning Average Score: 15.74\n",
      "Episode [19/200]\tEpisode Average Score: 28.51\tRunning Average Score: 16.41\n",
      "Episode [20/200]\tEpisode Average Score: 30.45\tRunning Average Score: 17.12\n",
      "Episode [21/200]\tEpisode Average Score: 28.64\tRunning Average Score: 17.66\n",
      "Episode [22/200]\tEpisode Average Score: 29.94\tRunning Average Score: 18.22\n",
      "Episode [23/200]\tEpisode Average Score: 28.91\tRunning Average Score: 18.69\n",
      "Episode [24/200]\tEpisode Average Score: 27.62\tRunning Average Score: 19.06\n",
      "Episode [25/200]\tEpisode Average Score: 31.10\tRunning Average Score: 19.54\n",
      "Episode [26/200]\tEpisode Average Score: 31.55\tRunning Average Score: 20.00\n",
      "Episode [27/200]\tEpisode Average Score: 28.30\tRunning Average Score: 20.31\n",
      "Episode [28/200]\tEpisode Average Score: 33.48\tRunning Average Score: 20.78\n",
      "Episode [29/200]\tEpisode Average Score: 25.40\tRunning Average Score: 20.94\n",
      "Episode [30/200]\tEpisode Average Score: 32.44\tRunning Average Score: 21.32\n",
      "Episode [31/200]\tEpisode Average Score: 32.57\tRunning Average Score: 21.69\n",
      "Episode [32/200]\tEpisode Average Score: 32.22\tRunning Average Score: 22.02\n",
      "Episode [33/200]\tEpisode Average Score: 27.68\tRunning Average Score: 22.19\n",
      "Episode [34/200]\tEpisode Average Score: 30.66\tRunning Average Score: 22.44\n",
      "Episode [35/200]\tEpisode Average Score: 26.68\tRunning Average Score: 22.56\n",
      "Episode [36/200]\tEpisode Average Score: 32.51\tRunning Average Score: 22.83\n",
      "Episode [37/200]\tEpisode Average Score: 30.97\tRunning Average Score: 23.05\n",
      "Episode [38/200]\tEpisode Average Score: 31.11\tRunning Average Score: 23.27\n",
      "Episode [39/200]\tEpisode Average Score: 27.08\tRunning Average Score: 23.36\n",
      "Episode [40/200]\tEpisode Average Score: 32.24\tRunning Average Score: 23.59\n",
      "Episode [41/200]\tEpisode Average Score: 33.26\tRunning Average Score: 23.82\n",
      "Episode [42/200]\tEpisode Average Score: 35.71\tRunning Average Score: 24.11\n",
      "Episode [43/200]\tEpisode Average Score: 35.12\tRunning Average Score: 24.36\n",
      "Episode [44/200]\tEpisode Average Score: 33.97\tRunning Average Score: 24.58\n",
      "Episode [45/200]\tEpisode Average Score: 33.65\tRunning Average Score: 24.78\n",
      "Episode [46/200]\tEpisode Average Score: 34.78\tRunning Average Score: 25.00\n",
      "Episode [47/200]\tEpisode Average Score: 31.07\tRunning Average Score: 25.13\n",
      "Episode [48/200]\tEpisode Average Score: 33.49\tRunning Average Score: 25.30\n",
      "Episode [49/200]\tEpisode Average Score: 31.34\tRunning Average Score: 25.43\n",
      "Episode [50/200]\tEpisode Average Score: 31.75\tRunning Average Score: 25.55\n",
      "Episode [51/200]\tEpisode Average Score: 32.95\tRunning Average Score: 25.70\n",
      "Episode [52/200]\tEpisode Average Score: 36.43\tRunning Average Score: 25.90\n",
      "Episode [53/200]\tEpisode Average Score: 35.78\tRunning Average Score: 26.09\n",
      "Episode [54/200]\tEpisode Average Score: 32.37\tRunning Average Score: 26.21\n",
      "Episode [55/200]\tEpisode Average Score: 30.08\tRunning Average Score: 26.28\n",
      "Episode [56/200]\tEpisode Average Score: 28.10\tRunning Average Score: 26.31\n",
      "Episode [57/200]\tEpisode Average Score: 29.43\tRunning Average Score: 26.36\n",
      "Episode [58/200]\tEpisode Average Score: 27.91\tRunning Average Score: 26.39\n",
      "Episode [59/200]\tEpisode Average Score: 28.48\tRunning Average Score: 26.43\n",
      "Episode [60/200]\tEpisode Average Score: 31.55\tRunning Average Score: 26.51\n",
      "Episode [61/200]\tEpisode Average Score: 33.33\tRunning Average Score: 26.62\n",
      "Episode [62/200]\tEpisode Average Score: 33.18\tRunning Average Score: 26.73\n",
      "Episode [63/200]\tEpisode Average Score: 32.88\tRunning Average Score: 26.83\n",
      "Episode [64/200]\tEpisode Average Score: 32.08\tRunning Average Score: 26.91\n",
      "Episode [65/200]\tEpisode Average Score: 35.74\tRunning Average Score: 27.04\n",
      "Episode [66/200]\tEpisode Average Score: 37.94\tRunning Average Score: 27.21\n",
      "Episode [67/200]\tEpisode Average Score: 33.87\tRunning Average Score: 27.31\n",
      "Episode [68/200]\tEpisode Average Score: 37.18\tRunning Average Score: 27.45\n",
      "Episode [69/200]\tEpisode Average Score: 36.99\tRunning Average Score: 27.59\n",
      "Episode [70/200]\tEpisode Average Score: 36.78\tRunning Average Score: 27.72\n",
      "Episode [71/200]\tEpisode Average Score: 34.19\tRunning Average Score: 27.81\n",
      "Episode [72/200]\tEpisode Average Score: 34.34\tRunning Average Score: 27.90\n",
      "Episode [73/200]\tEpisode Average Score: 37.24\tRunning Average Score: 28.03\n",
      "Episode [74/200]\tEpisode Average Score: 32.16\tRunning Average Score: 28.09\n",
      "Episode [75/200]\tEpisode Average Score: 31.49\tRunning Average Score: 28.13\n",
      "Episode [76/200]\tEpisode Average Score: 26.41\tRunning Average Score: 28.11\n",
      "Episode [77/200]\tEpisode Average Score: 27.18\tRunning Average Score: 28.10\n",
      "Episode [78/200]\tEpisode Average Score: 28.18\tRunning Average Score: 28.10\n",
      "Episode [79/200]\tEpisode Average Score: 30.17\tRunning Average Score: 28.13\n",
      "Episode [80/200]\tEpisode Average Score: 30.85\tRunning Average Score: 28.16\n",
      "Episode [81/200]\tEpisode Average Score: 28.11\tRunning Average Score: 28.16\n",
      "Episode [82/200]\tEpisode Average Score: 22.24\tRunning Average Score: 28.09\n",
      "Episode [83/200]\tEpisode Average Score: 26.52\tRunning Average Score: 28.07\n",
      "Episode [84/200]\tEpisode Average Score: 33.27\tRunning Average Score: 28.13\n",
      "Episode [85/200]\tEpisode Average Score: 31.61\tRunning Average Score: 28.17\n",
      "Episode [86/200]\tEpisode Average Score: 37.54\tRunning Average Score: 28.28\n",
      "Episode [87/200]\tEpisode Average Score: 37.26\tRunning Average Score: 28.38\n",
      "Episode [88/200]\tEpisode Average Score: 36.67\tRunning Average Score: 28.48\n",
      "Episode [89/200]\tEpisode Average Score: 37.46\tRunning Average Score: 28.58\n",
      "Episode [90/200]\tEpisode Average Score: 35.03\tRunning Average Score: 28.65\n",
      "Episode [91/200]\tEpisode Average Score: 36.26\tRunning Average Score: 28.73\n",
      "Episode [92/200]\tEpisode Average Score: 35.75\tRunning Average Score: 28.81\n",
      "Episode [93/200]\tEpisode Average Score: 34.37\tRunning Average Score: 28.87\n",
      "Episode [94/200]\tEpisode Average Score: 39.07\tRunning Average Score: 28.98\n",
      "Episode [95/200]\tEpisode Average Score: 38.99\tRunning Average Score: 29.08\n",
      "Episode [96/200]\tEpisode Average Score: 38.28\tRunning Average Score: 29.18\n",
      "Episode [97/200]\tEpisode Average Score: 36.40\tRunning Average Score: 29.25\n",
      "Episode [98/200]\tEpisode Average Score: 27.92\tRunning Average Score: 29.24\n",
      "Episode [99/200]\tEpisode Average Score: 33.64\tRunning Average Score: 29.29\n",
      "Episode [100/200]\tEpisode Average Score: 37.02\tRunning Average Score: 29.36\n",
      "Episode [101/200]\tEpisode Average Score: 37.28\tRunning Average Score: 29.73\n",
      "Episode [102/200]\tEpisode Average Score: 38.37\tRunning Average Score: 30.09\n",
      "\n",
      "Environment solved in 102 episodes!\tAverage Score: 30.09\n"
     ]
    }
   ],
   "source": [
    "agent = Agent(state_size=state_size, action_size=action_size, random_seed=0, update_every=20, learn_n_times=10, noise_scale=0.2, noise_decay=0.9999, lr_actor = 1e-3, lr_critic = 1e-3)\n",
    "score_history=ddpg(episodes=200, max_t=1500)\n"
   ]
  },
  {
   "cell_type": "code",
   "execution_count": 11,
   "metadata": {},
   "outputs": [
    {
     "data": {
      "image/png": "[encoded data removed]",
      "text/plain": [
       "<Figure size 432x288 with 1 Axes>"
      ]
     },
     "metadata": {
      "needs_background": "light"
     },
     "output_type": "display_data"
    }
   ],
   "source": [
    "plot_scores(score_history, num_agents, False)"
   ]
  },
  {
   "cell_type": "code",
   "execution_count": 12,
   "metadata": {},
   "outputs": [
    {
     "data": {
      "image/png": "[encoded data removed]",
      "text/plain": [
       "<Figure size 432x288 with 1 Axes>"
      ]
     },
     "metadata": {
      "needs_background": "light"
     },
     "output_type": "display_data"
    }
   ],
   "source": [
    "plot_scores(score_history, num_agents)"
   ]
  },
  {
   "cell_type": "markdown",
   "metadata": {},
   "source": [
    "### 5. Watch the Trained Agent\n",
    "\n",
    "\n",
    "Run the cell below to watch the trained agant act"
   ]
  },
  {
   "cell_type": "code",
   "execution_count": 13,
   "metadata": {},
   "outputs": [
    {
     "name": "stdout",
     "output_type": "stream",
     "text": [
      "Total score (averaged over agents) this episode: 37.44099916312844\n"
     ]
    }
   ],
   "source": [
    "# load the weights from file\n",
    "\n",
    "agent.actor_local.load_state_dict(torch.load('actor_checkpoint.pth', map_location=lambda storage, loc: storage))\n",
    "agent.critic_local.load_state_dict(torch.load('critic_checkpoint.pth', map_location=lambda storage, loc: storage))\n",
    "env_info = env.reset(train_mode=False)[brain_name]     # reset the environment    \n",
    "states = env_info.vector_observations                  # get the current state (for each agent)\n",
    "scores = np.zeros(num_agents)                          # initialize the score (for each agent)\n",
    "timesteps=0\n",
    "while True:\n",
    "    actions = agent.act(states, add_noise = False)     # select an action (for each agent)\n",
    "    env_info = env.step(actions)[brain_name]           # send all actions to tne environment\n",
    "    next_states = env_info.vector_observations         # get next state (for each agent)\n",
    "    rewards = env_info.rewards                         # get reward (for each agent)\n",
    "    dones = env_info.local_done                        # see if episode finished\n",
    "    scores += env_info.rewards                         # update the score (for each agent)\n",
    "    states = next_states                               # roll over states to next time step\n",
    "    timesteps += 1\n",
    "    if np.any(dones):                                  # exit loop if episode finished\n",
    "        break\n",
    "print('Total score (averaged over agents) this episode: {}'.format(np.mean(scores)))"
   ]
  },
  {
   "cell_type": "code",
   "execution_count": 14,
   "metadata": {},
   "outputs": [],
   "source": [
    "#env.close()"
   ]
  },
  {
   "cell_type": "code",
   "execution_count": null,
   "metadata": {},
   "outputs": [],
   "source": []
  }
 ],
 "metadata": {
  "kernelspec": {
   "display_name": "drlnd",
   "language": "python",
   "name": "drlnd"
  },
  "language_info": {
   "codemirror_mode": {
    "name": "ipython",
    "version": 3
   },
   "file_extension": ".py",
   "mimetype": "text/x-python",
   "name": "python",
   "nbconvert_exporter": "python",
   "pygments_lexer": "ipython3",
   "version": "3.6.13"
  }
 },
 "nbformat": 4,
 "nbformat_minor": 2
}
